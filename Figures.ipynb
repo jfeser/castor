{
 "cells": [
  {
   "cell_type": "code",
   "execution_count": 3,
   "metadata": {},
   "outputs": [],
   "source": [
    "castor = [\n",
    "(1,0.470235),                                                                                      \n",
    "(4,26.869566),                                                                                     \n",
    "(6,225.5)\n",
    "]"
   ]
  },
  {
   "cell_type": "code",
   "execution_count": 4,
   "metadata": {},
   "outputs": [],
   "source": [
    "hyper = [\n",
    "(1,19),\n",
    "(4,8),\n",
    "(6,12)\n",
    "]"
   ]
  },
  {
   "cell_type": "code",
   "execution_count": 6,
   "metadata": {},
   "outputs": [],
   "source": [
    "postgres = [\n",
    "(1,13332.760),\n",
    "(4,914.994),\n",
    "(6,2702.054),\n",
    "]"
   ]
  },
  {
   "cell_type": "code",
   "execution_count": 33,
   "metadata": {},
   "outputs": [],
   "source": [
    "postgres_size = 2138\n",
    "hyper_size = 3001\n",
    "castor_size = [(1, 0.135),(4,27),(6,46)]"
   ]
  },
  {
   "cell_type": "code",
   "execution_count": 18,
   "metadata": {},
   "outputs": [
    {
     "name": "stdout",
     "output_type": "stream",
     "text": [
      "\\begin{tabular}{lrrr}\\toprule\n",
      "System & TPCH Query 1 & TPCH Query 4 & TPCH Query 6\n",
      "\\\\ \\midrule\n",
      "\\projname{} & 0.47 & 26.87 & 225.50\\\\\n",
      "HyPer & 19.00 & 8.00 & 12.00\\\\\n",
      "PostgreSQL & 13332.76 & 914.99 & 2702.05\\\\\n",
      "\\bottomrule\\end{tabular}\n"
     ]
    }
   ],
   "source": [
    "def gen_table():\n",
    "    out = ''\n",
    "    out += '\\\\begin{tabular}{lrrr}\\\\toprule\\n'\n",
    "    out += 'System'\n",
    "    for row in castor:\n",
    "        out += r' & TPCH Query %d' % row[0]\n",
    "    out += '\\n\\\\\\\\ \\\\midrule\\n'\n",
    "    out += r'\\projname{}'\n",
    "    for row in castor:\n",
    "        out += ' & %.2f' % row[1]\n",
    "    out += '\\\\\\\\\\n'\n",
    "    out += r'HyPer'\n",
    "    for row in hyper:\n",
    "        out += ' & %.2f' % row[1]\n",
    "    out += '\\\\\\\\\\n'\n",
    "    out += 'PostgreSQL'\n",
    "    for row in postgres:\n",
    "        out += ' & %.2f' % row[1]\n",
    "    out += '\\\\\\\\\\n'\n",
    "    out += r'\\bottomrule\\end{tabular}'\n",
    "    return out\n",
    "print(gen_table())"
   ]
  },
  {
   "cell_type": "code",
   "execution_count": 36,
   "metadata": {},
   "outputs": [],
   "source": [
    "with open('../../work/fastdb_paper/results_tbl.tex', 'w') as f:\n",
    "    f.write(gen_table())\n",
    "with open('../../work/fastdb_paper/results_size_tbl.tex', 'w') as f:\n",
    "    f.write(gen_size_table())"
   ]
  },
  {
   "cell_type": "code",
   "execution_count": 34,
   "metadata": {},
   "outputs": [
    {
     "name": "stdout",
     "output_type": "stream",
     "text": [
      "\\begin{tabular}{lrrr}\\toprule\n",
      "System & TPCH Query 1 & TPCH Query 4 & TPCH Query 6\n",
      "\\\\ \\midrule\n",
      "\\projname{} & 0.14 & 27.00 & 46.00\\\\\n",
      "HyPer & 3001.00 & 3001.00 & 3001.00\\\\\n",
      "PostgreSQL & 2138.00 & 2138.00 & 2138.00\\\\\n",
      "\\bottomrule\\end{tabular}\n"
     ]
    }
   ],
   "source": [
    "def gen_size_table():\n",
    "    out = ''\n",
    "    out += '\\\\begin{tabular}{lrrr}\\\\toprule\\n'\n",
    "    out += 'System'\n",
    "    for row in castor_size:\n",
    "        out += r' & TPCH Query %d' % row[0]\n",
    "    out += '\\n\\\\\\\\ \\\\midrule\\n'\n",
    "    out += r'\\projname{}'\n",
    "    for row in castor_size:\n",
    "        if row[1] is None:\n",
    "            out += ' & --'\n",
    "        else:\n",
    "            out += ' & %.2f' % row[1]\n",
    "    out += '\\\\\\\\\\n'\n",
    "    out += r'HyPer'\n",
    "    for row in castor:\n",
    "        out += ' & %.2f' % hyper_size\n",
    "    out += '\\\\\\\\\\n'\n",
    "    out += 'PostgreSQL'\n",
    "    for row in castor:\n",
    "        out += ' & %.2f' % postgres_size\n",
    "    out += '\\\\\\\\\\n'\n",
    "    out += r'\\bottomrule\\end{tabular}'\n",
    "    return out\n",
    "print(gen_size_table())"
   ]
  },
  {
   "cell_type": "code",
   "execution_count": null,
   "metadata": {},
   "outputs": [],
   "source": []
  }
 ],
 "metadata": {
  "kernelspec": {
   "display_name": "Python 3",
   "language": "python",
   "name": "python3"
  },
  "language_info": {
   "codemirror_mode": {
    "name": "ipython",
    "version": 3
   },
   "file_extension": ".py",
   "mimetype": "text/x-python",
   "name": "python",
   "nbconvert_exporter": "python",
   "pygments_lexer": "ipython3",
   "version": "3.7.0"
  }
 },
 "nbformat": 4,
 "nbformat_minor": 2
}
